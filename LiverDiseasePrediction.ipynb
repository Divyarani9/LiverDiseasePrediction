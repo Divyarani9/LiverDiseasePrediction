{
 "cells": [
  {
   "cell_type": "code",
   "execution_count": null,
   "id": "5e0c17e1",
   "metadata": {},
   "outputs": [],
   "source": []
  },
  {
   "cell_type": "code",
   "execution_count": 1,
   "id": "53f3f159",
   "metadata": {},
   "outputs": [],
   "source": [
    "import pyforest\n",
    "from warnings import filterwarnings\n",
    "filterwarnings('ignore')\n",
    "\n",
    "from sklearn.model_selection import train_test_split\n",
    "from sklearn.preprocessing import MinMaxScaler\n",
    "from sklearn.preprocessing import StandardScaler\n",
    "from sklearn import metrics\n",
    "from sklearn.metrics import confusion_matrix, accuracy_score, classification_report\n",
    "from sklearn.metrics import roc_curve\n",
    "from sklearn.metrics import roc_auc_score\n",
    "from sklearn.linear_model import LogisticRegression\n",
    "from sklearn.neighbors import KNeighborsClassifier\n",
    "from sklearn.naive_bayes import GaussianNB\n",
    "from sklearn.model_selection import GridSearchCV\n",
    "from sklearn.model_selection import cross_val_score \n",
    "from sklearn.ensemble import RandomForestClassifier\n",
    "from sklearn.linear_model import LogisticRegression\n",
    "from sklearn.tree import DecisionTreeClassifier\n",
    "from sklearn.ensemble import RandomForestClassifier\n",
    "from sklearn.ensemble import AdaBoostClassifier\n",
    "from sklearn.ensemble import GradientBoostingClassifier\n",
    "from sklearn.ensemble import StackingClassifier\n",
    "from sklearn.metrics import cohen_kappa_score\n",
    "from statsmodels.stats.outliers_influence import variance_inflation_factor as vif\n",
    "from xgboost import XGBClassifier\n",
    "import statsmodels\n",
    "import statsmodels.api as sm\n",
    "from sklearn.linear_model import LogisticRegression\n",
    "from sklearn.feature_selection import RFE\n",
    "from sklearn.impute import KNNImputer\n",
    "import matplotlib.pyplot as plt\n",
    "import os\n",
    "from sklearn import tree\n",
    "import pydotplus\n",
    "from sklearn.preprocessing import OneHotEncoder\n",
    "from sklearn.compose import ColumnTransformer\n",
    "%matplotlib inline\n",
    "\n",
    "\n",
    "plt.rcParams['figure.figsize'] = [15,12]"
   ]
  },
  {
   "cell_type": "code",
   "execution_count": null,
   "id": "8f6d931f",
   "metadata": {},
   "outputs": [],
   "source": [
    "#pip install statsmodels --upgrade"
   ]
  },
  {
   "cell_type": "code",
   "execution_count": null,
   "id": "569bc9ef",
   "metadata": {},
   "outputs": [],
   "source": [
    "#pip install pyforest"
   ]
  },
  {
   "cell_type": "code",
   "execution_count": 2,
   "id": "2fcb4c4f",
   "metadata": {},
   "outputs": [
    {
     "data": {
      "application/javascript": [
       "\n",
       "        if (window._pyforest_update_imports_cell) { window._pyforest_update_imports_cell('import pandas as pd'); }\n",
       "    "
      ],
      "text/plain": [
       "<IPython.core.display.Javascript object>"
      ]
     },
     "metadata": {},
     "output_type": "display_data"
    },
    {
     "data": {
      "text/html": [
       "<div>\n",
       "<style scoped>\n",
       "    .dataframe tbody tr th:only-of-type {\n",
       "        vertical-align: middle;\n",
       "    }\n",
       "\n",
       "    .dataframe tbody tr th {\n",
       "        vertical-align: top;\n",
       "    }\n",
       "\n",
       "    .dataframe thead th {\n",
       "        text-align: right;\n",
       "    }\n",
       "</style>\n",
       "<table border=\"1\" class=\"dataframe\">\n",
       "  <thead>\n",
       "    <tr style=\"text-align: right;\">\n",
       "      <th></th>\n",
       "      <th>Age</th>\n",
       "      <th>Gender</th>\n",
       "      <th>Total Bilirubin</th>\n",
       "      <th>Direct Bilirubin</th>\n",
       "      <th>Alkphos</th>\n",
       "      <th>Sgpt</th>\n",
       "      <th>Sgpot</th>\n",
       "      <th>Total Protein</th>\n",
       "      <th>Albumin</th>\n",
       "      <th>A/G Ratio</th>\n",
       "      <th>Selector</th>\n",
       "    </tr>\n",
       "  </thead>\n",
       "  <tbody>\n",
       "    <tr>\n",
       "      <th>0</th>\n",
       "      <td>65</td>\n",
       "      <td>Female</td>\n",
       "      <td>0.7</td>\n",
       "      <td>0.1</td>\n",
       "      <td>187</td>\n",
       "      <td>16</td>\n",
       "      <td>18</td>\n",
       "      <td>6.8</td>\n",
       "      <td>3.3</td>\n",
       "      <td>0.90</td>\n",
       "      <td>1</td>\n",
       "    </tr>\n",
       "    <tr>\n",
       "      <th>1</th>\n",
       "      <td>62</td>\n",
       "      <td>Male</td>\n",
       "      <td>10.9</td>\n",
       "      <td>5.5</td>\n",
       "      <td>699</td>\n",
       "      <td>64</td>\n",
       "      <td>100</td>\n",
       "      <td>7.5</td>\n",
       "      <td>3.2</td>\n",
       "      <td>0.74</td>\n",
       "      <td>1</td>\n",
       "    </tr>\n",
       "    <tr>\n",
       "      <th>2</th>\n",
       "      <td>62</td>\n",
       "      <td>Male</td>\n",
       "      <td>7.3</td>\n",
       "      <td>4.1</td>\n",
       "      <td>490</td>\n",
       "      <td>60</td>\n",
       "      <td>68</td>\n",
       "      <td>7.0</td>\n",
       "      <td>3.3</td>\n",
       "      <td>0.89</td>\n",
       "      <td>1</td>\n",
       "    </tr>\n",
       "    <tr>\n",
       "      <th>3</th>\n",
       "      <td>58</td>\n",
       "      <td>Male</td>\n",
       "      <td>1.0</td>\n",
       "      <td>0.4</td>\n",
       "      <td>182</td>\n",
       "      <td>14</td>\n",
       "      <td>20</td>\n",
       "      <td>6.8</td>\n",
       "      <td>3.4</td>\n",
       "      <td>1.00</td>\n",
       "      <td>1</td>\n",
       "    </tr>\n",
       "    <tr>\n",
       "      <th>4</th>\n",
       "      <td>72</td>\n",
       "      <td>Male</td>\n",
       "      <td>3.9</td>\n",
       "      <td>2.0</td>\n",
       "      <td>195</td>\n",
       "      <td>27</td>\n",
       "      <td>59</td>\n",
       "      <td>7.3</td>\n",
       "      <td>2.4</td>\n",
       "      <td>0.40</td>\n",
       "      <td>1</td>\n",
       "    </tr>\n",
       "  </tbody>\n",
       "</table>\n",
       "</div>"
      ],
      "text/plain": [
       "   Age  Gender  Total Bilirubin  Direct Bilirubin  Alkphos  Sgpt  Sgpot  \\\n",
       "0   65  Female              0.7               0.1      187    16     18   \n",
       "1   62    Male             10.9               5.5      699    64    100   \n",
       "2   62    Male              7.3               4.1      490    60     68   \n",
       "3   58    Male              1.0               0.4      182    14     20   \n",
       "4   72    Male              3.9               2.0      195    27     59   \n",
       "\n",
       "   Total Protein  Albumin  A/G Ratio  Selector  \n",
       "0            6.8      3.3       0.90         1  \n",
       "1            7.5      3.2       0.74         1  \n",
       "2            7.0      3.3       0.89         1  \n",
       "3            6.8      3.4       1.00         1  \n",
       "4            7.3      2.4       0.40         1  "
      ]
     },
     "execution_count": 2,
     "metadata": {},
     "output_type": "execute_result"
    }
   ],
   "source": [
    "df = pd.read_csv('ILPD.csv')\n",
    "df.head()"
   ]
  },
  {
   "cell_type": "code",
   "execution_count": 3,
   "id": "5f64a819",
   "metadata": {},
   "outputs": [
    {
     "data": {
      "text/plain": [
       "(583, 11)"
      ]
     },
     "execution_count": 3,
     "metadata": {},
     "output_type": "execute_result"
    }
   ],
   "source": [
    "df.shape #Features"
   ]
  },
  {
   "cell_type": "code",
   "execution_count": 4,
   "id": "debefd65",
   "metadata": {},
   "outputs": [
    {
     "name": "stdout",
     "output_type": "stream",
     "text": [
      "<class 'pandas.core.frame.DataFrame'>\n",
      "RangeIndex: 583 entries, 0 to 582\n",
      "Data columns (total 11 columns):\n",
      " #   Column            Non-Null Count  Dtype  \n",
      "---  ------            --------------  -----  \n",
      " 0   Age               583 non-null    int64  \n",
      " 1   Gender            583 non-null    object \n",
      " 2   Total Bilirubin   583 non-null    float64\n",
      " 3   Direct Bilirubin  583 non-null    float64\n",
      " 4   Alkphos           583 non-null    int64  \n",
      " 5   Sgpt              583 non-null    int64  \n",
      " 6   Sgpot             583 non-null    int64  \n",
      " 7   Total Protein     583 non-null    float64\n",
      " 8   Albumin           583 non-null    float64\n",
      " 9   A/G Ratio         579 non-null    float64\n",
      " 10  Selector          583 non-null    int64  \n",
      "dtypes: float64(5), int64(5), object(1)\n",
      "memory usage: 50.2+ KB\n"
     ]
    }
   ],
   "source": [
    "df.info()"
   ]
  },
  {
   "cell_type": "code",
   "execution_count": 5,
   "id": "57552e21",
   "metadata": {},
   "outputs": [
    {
     "data": {
      "text/html": [
       "<div>\n",
       "<style scoped>\n",
       "    .dataframe tbody tr th:only-of-type {\n",
       "        vertical-align: middle;\n",
       "    }\n",
       "\n",
       "    .dataframe tbody tr th {\n",
       "        vertical-align: top;\n",
       "    }\n",
       "\n",
       "    .dataframe thead th {\n",
       "        text-align: right;\n",
       "    }\n",
       "</style>\n",
       "<table border=\"1\" class=\"dataframe\">\n",
       "  <thead>\n",
       "    <tr style=\"text-align: right;\">\n",
       "      <th></th>\n",
       "      <th>Age</th>\n",
       "      <th>Total Bilirubin</th>\n",
       "      <th>Direct Bilirubin</th>\n",
       "      <th>Alkphos</th>\n",
       "      <th>Sgpt</th>\n",
       "      <th>Sgpot</th>\n",
       "      <th>Total Protein</th>\n",
       "      <th>Albumin</th>\n",
       "      <th>A/G Ratio</th>\n",
       "      <th>Selector</th>\n",
       "    </tr>\n",
       "  </thead>\n",
       "  <tbody>\n",
       "    <tr>\n",
       "      <th>count</th>\n",
       "      <td>583.000000</td>\n",
       "      <td>583.000000</td>\n",
       "      <td>583.000000</td>\n",
       "      <td>583.000000</td>\n",
       "      <td>583.000000</td>\n",
       "      <td>583.000000</td>\n",
       "      <td>583.000000</td>\n",
       "      <td>583.000000</td>\n",
       "      <td>579.000000</td>\n",
       "      <td>583.000000</td>\n",
       "    </tr>\n",
       "    <tr>\n",
       "      <th>mean</th>\n",
       "      <td>44.746141</td>\n",
       "      <td>3.298799</td>\n",
       "      <td>1.486106</td>\n",
       "      <td>290.576329</td>\n",
       "      <td>80.713551</td>\n",
       "      <td>109.910806</td>\n",
       "      <td>6.483190</td>\n",
       "      <td>3.141852</td>\n",
       "      <td>0.947064</td>\n",
       "      <td>1.286449</td>\n",
       "    </tr>\n",
       "    <tr>\n",
       "      <th>std</th>\n",
       "      <td>16.189833</td>\n",
       "      <td>6.209522</td>\n",
       "      <td>2.808498</td>\n",
       "      <td>242.937989</td>\n",
       "      <td>182.620356</td>\n",
       "      <td>288.918529</td>\n",
       "      <td>1.085451</td>\n",
       "      <td>0.795519</td>\n",
       "      <td>0.319592</td>\n",
       "      <td>0.452490</td>\n",
       "    </tr>\n",
       "    <tr>\n",
       "      <th>min</th>\n",
       "      <td>4.000000</td>\n",
       "      <td>0.400000</td>\n",
       "      <td>0.100000</td>\n",
       "      <td>63.000000</td>\n",
       "      <td>10.000000</td>\n",
       "      <td>10.000000</td>\n",
       "      <td>2.700000</td>\n",
       "      <td>0.900000</td>\n",
       "      <td>0.300000</td>\n",
       "      <td>1.000000</td>\n",
       "    </tr>\n",
       "    <tr>\n",
       "      <th>25%</th>\n",
       "      <td>33.000000</td>\n",
       "      <td>0.800000</td>\n",
       "      <td>0.200000</td>\n",
       "      <td>175.500000</td>\n",
       "      <td>23.000000</td>\n",
       "      <td>25.000000</td>\n",
       "      <td>5.800000</td>\n",
       "      <td>2.600000</td>\n",
       "      <td>0.700000</td>\n",
       "      <td>1.000000</td>\n",
       "    </tr>\n",
       "    <tr>\n",
       "      <th>50%</th>\n",
       "      <td>45.000000</td>\n",
       "      <td>1.000000</td>\n",
       "      <td>0.300000</td>\n",
       "      <td>208.000000</td>\n",
       "      <td>35.000000</td>\n",
       "      <td>42.000000</td>\n",
       "      <td>6.600000</td>\n",
       "      <td>3.100000</td>\n",
       "      <td>0.930000</td>\n",
       "      <td>1.000000</td>\n",
       "    </tr>\n",
       "    <tr>\n",
       "      <th>75%</th>\n",
       "      <td>58.000000</td>\n",
       "      <td>2.600000</td>\n",
       "      <td>1.300000</td>\n",
       "      <td>298.000000</td>\n",
       "      <td>60.500000</td>\n",
       "      <td>87.000000</td>\n",
       "      <td>7.200000</td>\n",
       "      <td>3.800000</td>\n",
       "      <td>1.100000</td>\n",
       "      <td>2.000000</td>\n",
       "    </tr>\n",
       "    <tr>\n",
       "      <th>max</th>\n",
       "      <td>90.000000</td>\n",
       "      <td>75.000000</td>\n",
       "      <td>19.700000</td>\n",
       "      <td>2110.000000</td>\n",
       "      <td>2000.000000</td>\n",
       "      <td>4929.000000</td>\n",
       "      <td>9.600000</td>\n",
       "      <td>5.500000</td>\n",
       "      <td>2.800000</td>\n",
       "      <td>2.000000</td>\n",
       "    </tr>\n",
       "  </tbody>\n",
       "</table>\n",
       "</div>"
      ],
      "text/plain": [
       "              Age  Total Bilirubin  Direct Bilirubin      Alkphos  \\\n",
       "count  583.000000       583.000000        583.000000   583.000000   \n",
       "mean    44.746141         3.298799          1.486106   290.576329   \n",
       "std     16.189833         6.209522          2.808498   242.937989   \n",
       "min      4.000000         0.400000          0.100000    63.000000   \n",
       "25%     33.000000         0.800000          0.200000   175.500000   \n",
       "50%     45.000000         1.000000          0.300000   208.000000   \n",
       "75%     58.000000         2.600000          1.300000   298.000000   \n",
       "max     90.000000        75.000000         19.700000  2110.000000   \n",
       "\n",
       "              Sgpt        Sgpot  Total Protein     Albumin   A/G Ratio  \\\n",
       "count   583.000000   583.000000     583.000000  583.000000  579.000000   \n",
       "mean     80.713551   109.910806       6.483190    3.141852    0.947064   \n",
       "std     182.620356   288.918529       1.085451    0.795519    0.319592   \n",
       "min      10.000000    10.000000       2.700000    0.900000    0.300000   \n",
       "25%      23.000000    25.000000       5.800000    2.600000    0.700000   \n",
       "50%      35.000000    42.000000       6.600000    3.100000    0.930000   \n",
       "75%      60.500000    87.000000       7.200000    3.800000    1.100000   \n",
       "max    2000.000000  4929.000000       9.600000    5.500000    2.800000   \n",
       "\n",
       "         Selector  \n",
       "count  583.000000  \n",
       "mean     1.286449  \n",
       "std      0.452490  \n",
       "min      1.000000  \n",
       "25%      1.000000  \n",
       "50%      1.000000  \n",
       "75%      2.000000  \n",
       "max      2.000000  "
      ]
     },
     "execution_count": 5,
     "metadata": {},
     "output_type": "execute_result"
    }
   ],
   "source": [
    "df.describe()"
   ]
  },
  {
   "cell_type": "code",
   "execution_count": 6,
   "id": "5d8fab76",
   "metadata": {},
   "outputs": [
    {
     "data": {
      "text/plain": [
       "Age                 0\n",
       "Gender              0\n",
       "Total Bilirubin     0\n",
       "Direct Bilirubin    0\n",
       "Alkphos             0\n",
       "Sgpt                0\n",
       "Sgpot               0\n",
       "Total Protein       0\n",
       "Albumin             0\n",
       "A/G Ratio           4\n",
       "Selector            0\n",
       "dtype: int64"
      ]
     },
     "execution_count": 6,
     "metadata": {},
     "output_type": "execute_result"
    }
   ],
   "source": [
    "df.isnull().sum()  #Checking for Null Values"
   ]
  },
  {
   "cell_type": "code",
   "execution_count": 7,
   "id": "0ba45818",
   "metadata": {},
   "outputs": [
    {
     "data": {
      "text/plain": [
       "Age                 0\n",
       "Gender              0\n",
       "Total Bilirubin     0\n",
       "Direct Bilirubin    0\n",
       "Alkphos             0\n",
       "Sgpt                0\n",
       "Sgpot               0\n",
       "Total Protein       0\n",
       "Albumin             0\n",
       "A/G Ratio           0\n",
       "Selector            0\n",
       "dtype: int64"
      ]
     },
     "execution_count": 7,
     "metadata": {},
     "output_type": "execute_result"
    }
   ],
   "source": [
    "df['A/G Ratio'].fillna(df['A/G Ratio'].median(),inplace=True)\n",
    "df.isnull().sum()   #Fixing of Null Values"
   ]
  },
  {
   "cell_type": "code",
   "execution_count": 8,
   "id": "11ec38f3",
   "metadata": {},
   "outputs": [
    {
     "data": {
      "text/html": [
       "<div>\n",
       "<style scoped>\n",
       "    .dataframe tbody tr th:only-of-type {\n",
       "        vertical-align: middle;\n",
       "    }\n",
       "\n",
       "    .dataframe tbody tr th {\n",
       "        vertical-align: top;\n",
       "    }\n",
       "\n",
       "    .dataframe thead th {\n",
       "        text-align: right;\n",
       "    }\n",
       "</style>\n",
       "<table border=\"1\" class=\"dataframe\">\n",
       "  <thead>\n",
       "    <tr style=\"text-align: right;\">\n",
       "      <th></th>\n",
       "      <th>Age</th>\n",
       "      <th>Gender</th>\n",
       "      <th>Total Bilirubin</th>\n",
       "      <th>Direct Bilirubin</th>\n",
       "      <th>Alkphos</th>\n",
       "      <th>Sgpt</th>\n",
       "      <th>Sgpot</th>\n",
       "      <th>Total Protein</th>\n",
       "      <th>Albumin</th>\n",
       "      <th>A/G Ratio</th>\n",
       "      <th>Selector</th>\n",
       "    </tr>\n",
       "  </thead>\n",
       "  <tbody>\n",
       "    <tr>\n",
       "      <th>578</th>\n",
       "      <td>60</td>\n",
       "      <td>Male</td>\n",
       "      <td>0.5</td>\n",
       "      <td>0.1</td>\n",
       "      <td>500</td>\n",
       "      <td>20</td>\n",
       "      <td>34</td>\n",
       "      <td>5.9</td>\n",
       "      <td>1.6</td>\n",
       "      <td>0.37</td>\n",
       "      <td>0</td>\n",
       "    </tr>\n",
       "    <tr>\n",
       "      <th>579</th>\n",
       "      <td>40</td>\n",
       "      <td>Male</td>\n",
       "      <td>0.6</td>\n",
       "      <td>0.1</td>\n",
       "      <td>98</td>\n",
       "      <td>35</td>\n",
       "      <td>31</td>\n",
       "      <td>6.0</td>\n",
       "      <td>3.2</td>\n",
       "      <td>1.10</td>\n",
       "      <td>1</td>\n",
       "    </tr>\n",
       "    <tr>\n",
       "      <th>580</th>\n",
       "      <td>52</td>\n",
       "      <td>Male</td>\n",
       "      <td>0.8</td>\n",
       "      <td>0.2</td>\n",
       "      <td>245</td>\n",
       "      <td>48</td>\n",
       "      <td>49</td>\n",
       "      <td>6.4</td>\n",
       "      <td>3.2</td>\n",
       "      <td>1.00</td>\n",
       "      <td>1</td>\n",
       "    </tr>\n",
       "    <tr>\n",
       "      <th>581</th>\n",
       "      <td>31</td>\n",
       "      <td>Male</td>\n",
       "      <td>1.3</td>\n",
       "      <td>0.5</td>\n",
       "      <td>184</td>\n",
       "      <td>29</td>\n",
       "      <td>32</td>\n",
       "      <td>6.8</td>\n",
       "      <td>3.4</td>\n",
       "      <td>1.00</td>\n",
       "      <td>1</td>\n",
       "    </tr>\n",
       "    <tr>\n",
       "      <th>582</th>\n",
       "      <td>38</td>\n",
       "      <td>Male</td>\n",
       "      <td>1.0</td>\n",
       "      <td>0.3</td>\n",
       "      <td>216</td>\n",
       "      <td>21</td>\n",
       "      <td>24</td>\n",
       "      <td>7.3</td>\n",
       "      <td>4.4</td>\n",
       "      <td>1.50</td>\n",
       "      <td>0</td>\n",
       "    </tr>\n",
       "  </tbody>\n",
       "</table>\n",
       "</div>"
      ],
      "text/plain": [
       "     Age Gender  Total Bilirubin  Direct Bilirubin  Alkphos  Sgpt  Sgpot  \\\n",
       "578   60   Male              0.5               0.1      500    20     34   \n",
       "579   40   Male              0.6               0.1       98    35     31   \n",
       "580   52   Male              0.8               0.2      245    48     49   \n",
       "581   31   Male              1.3               0.5      184    29     32   \n",
       "582   38   Male              1.0               0.3      216    21     24   \n",
       "\n",
       "     Total Protein  Albumin  A/G Ratio  Selector  \n",
       "578            5.9      1.6       0.37         0  \n",
       "579            6.0      3.2       1.10         1  \n",
       "580            6.4      3.2       1.00         1  \n",
       "581            6.8      3.4       1.00         1  \n",
       "582            7.3      4.4       1.50         0  "
      ]
     },
     "execution_count": 8,
     "metadata": {},
     "output_type": "execute_result"
    }
   ],
   "source": [
    "df['Selector'] = df['Selector'].map(lambda x:0 if x==2 else 1)\n",
    "df.tail()"
   ]
  },
  {
   "cell_type": "code",
   "execution_count": 10,
   "id": "d32c2027",
   "metadata": {},
   "outputs": [
    {
     "data": {
      "text/html": [
       "<div>\n",
       "<style scoped>\n",
       "    .dataframe tbody tr th:only-of-type {\n",
       "        vertical-align: middle;\n",
       "    }\n",
       "\n",
       "    .dataframe tbody tr th {\n",
       "        vertical-align: top;\n",
       "    }\n",
       "\n",
       "    .dataframe thead th {\n",
       "        text-align: right;\n",
       "    }\n",
       "</style>\n",
       "<table border=\"1\" class=\"dataframe\">\n",
       "  <thead>\n",
       "    <tr style=\"text-align: right;\">\n",
       "      <th></th>\n",
       "      <th>Age</th>\n",
       "      <th>Gender</th>\n",
       "      <th>Total Bilirubin</th>\n",
       "      <th>Direct Bilirubin</th>\n",
       "      <th>Alkphos</th>\n",
       "      <th>Sgpt</th>\n",
       "      <th>Sgpot</th>\n",
       "      <th>Total Protein</th>\n",
       "      <th>Albumin</th>\n",
       "      <th>A/G Ratio</th>\n",
       "      <th>Selector</th>\n",
       "    </tr>\n",
       "  </thead>\n",
       "  <tbody>\n",
       "    <tr>\n",
       "      <th>578</th>\n",
       "      <td>60</td>\n",
       "      <td>1</td>\n",
       "      <td>0.5</td>\n",
       "      <td>0.1</td>\n",
       "      <td>500</td>\n",
       "      <td>20</td>\n",
       "      <td>34</td>\n",
       "      <td>5.9</td>\n",
       "      <td>1.6</td>\n",
       "      <td>0.37</td>\n",
       "      <td>0</td>\n",
       "    </tr>\n",
       "    <tr>\n",
       "      <th>579</th>\n",
       "      <td>40</td>\n",
       "      <td>1</td>\n",
       "      <td>0.6</td>\n",
       "      <td>0.1</td>\n",
       "      <td>98</td>\n",
       "      <td>35</td>\n",
       "      <td>31</td>\n",
       "      <td>6.0</td>\n",
       "      <td>3.2</td>\n",
       "      <td>1.10</td>\n",
       "      <td>1</td>\n",
       "    </tr>\n",
       "    <tr>\n",
       "      <th>580</th>\n",
       "      <td>52</td>\n",
       "      <td>1</td>\n",
       "      <td>0.8</td>\n",
       "      <td>0.2</td>\n",
       "      <td>245</td>\n",
       "      <td>48</td>\n",
       "      <td>49</td>\n",
       "      <td>6.4</td>\n",
       "      <td>3.2</td>\n",
       "      <td>1.00</td>\n",
       "      <td>1</td>\n",
       "    </tr>\n",
       "    <tr>\n",
       "      <th>581</th>\n",
       "      <td>31</td>\n",
       "      <td>1</td>\n",
       "      <td>1.3</td>\n",
       "      <td>0.5</td>\n",
       "      <td>184</td>\n",
       "      <td>29</td>\n",
       "      <td>32</td>\n",
       "      <td>6.8</td>\n",
       "      <td>3.4</td>\n",
       "      <td>1.00</td>\n",
       "      <td>1</td>\n",
       "    </tr>\n",
       "    <tr>\n",
       "      <th>582</th>\n",
       "      <td>38</td>\n",
       "      <td>1</td>\n",
       "      <td>1.0</td>\n",
       "      <td>0.3</td>\n",
       "      <td>216</td>\n",
       "      <td>21</td>\n",
       "      <td>24</td>\n",
       "      <td>7.3</td>\n",
       "      <td>4.4</td>\n",
       "      <td>1.50</td>\n",
       "      <td>0</td>\n",
       "    </tr>\n",
       "  </tbody>\n",
       "</table>\n",
       "</div>"
      ],
      "text/plain": [
       "     Age  Gender  Total Bilirubin  Direct Bilirubin  Alkphos  Sgpt  Sgpot  \\\n",
       "578   60       1              0.5               0.1      500    20     34   \n",
       "579   40       1              0.6               0.1       98    35     31   \n",
       "580   52       1              0.8               0.2      245    48     49   \n",
       "581   31       1              1.3               0.5      184    29     32   \n",
       "582   38       1              1.0               0.3      216    21     24   \n",
       "\n",
       "     Total Protein  Albumin  A/G Ratio  Selector  \n",
       "578            5.9      1.6       0.37         0  \n",
       "579            6.0      3.2       1.10         1  \n",
       "580            6.4      3.2       1.00         1  \n",
       "581            6.8      3.4       1.00         1  \n",
       "582            7.3      4.4       1.50         0  "
      ]
     },
     "execution_count": 10,
     "metadata": {},
     "output_type": "execute_result"
    }
   ],
   "source": [
    "df['Gender'] = df['Gender'].map(lambda x:0 if x=='Female' else 1)\n",
    "df.tail()"
   ]
  },
  {
   "cell_type": "code",
   "execution_count": 11,
   "id": "9df9abda",
   "metadata": {},
   "outputs": [
    {
     "name": "stdout",
     "output_type": "stream",
     "text": [
      "Index(['Age', 'Gender', 'Total Bilirubin', 'Direct Bilirubin', 'Alkphos',\n",
      "       'Sgpt', 'Sgpot', 'Total Protein', 'Albumin', 'A/G Ratio'],\n",
      "      dtype='object')\n",
      "Index([], dtype='object')\n"
     ]
    }
   ],
   "source": [
    "num_cols=df.drop('Selector',axis=1).select_dtypes(exclude='object')\n",
    "cat_cols=df.select_dtypes(include='object')\n",
    "print(num_cols.columns)\n",
    "print(cat_cols.columns)"
   ]
  },
  {
   "cell_type": "code",
   "execution_count": 12,
   "id": "52665f56",
   "metadata": {},
   "outputs": [
    {
     "data": {
      "application/javascript": [
       "\n",
       "        if (window._pyforest_update_imports_cell) { window._pyforest_update_imports_cell('import seaborn as sns\\nimport pandas as pd'); }\n",
       "    "
      ],
      "text/plain": [
       "<IPython.core.display.Javascript object>"
      ]
     },
     "metadata": {},
     "output_type": "display_data"
    },
    {
     "data": {
      "application/javascript": [
       "\n",
       "        if (window._pyforest_update_imports_cell) { window._pyforest_update_imports_cell('import seaborn as sns\\nimport pandas as pd'); }\n",
       "    "
      ],
      "text/plain": [
       "<IPython.core.display.Javascript object>"
      ]
     },
     "metadata": {},
     "output_type": "display_data"
    },
    {
     "data": {
      "application/javascript": [
       "\n",
       "        if (window._pyforest_update_imports_cell) { window._pyforest_update_imports_cell('import seaborn as sns\\nimport pandas as pd'); }\n",
       "    "
      ],
      "text/plain": [
       "<IPython.core.display.Javascript object>"
      ]
     },
     "metadata": {},
     "output_type": "display_data"
    },
    {
     "data": {
      "application/javascript": [
       "\n",
       "        if (window._pyforest_update_imports_cell) { window._pyforest_update_imports_cell('import seaborn as sns\\nimport pandas as pd'); }\n",
       "    "
      ],
      "text/plain": [
       "<IPython.core.display.Javascript object>"
      ]
     },
     "metadata": {},
     "output_type": "display_data"
    },
    {
     "data": {
      "application/javascript": [
       "\n",
       "        if (window._pyforest_update_imports_cell) { window._pyforest_update_imports_cell('import seaborn as sns\\nimport pandas as pd'); }\n",
       "    "
      ],
      "text/plain": [
       "<IPython.core.display.Javascript object>"
      ]
     },
     "metadata": {},
     "output_type": "display_data"
    },
    {
     "data": {
      "application/javascript": [
       "\n",
       "        if (window._pyforest_update_imports_cell) { window._pyforest_update_imports_cell('import seaborn as sns\\nimport pandas as pd'); }\n",
       "    "
      ],
      "text/plain": [
       "<IPython.core.display.Javascript object>"
      ]
     },
     "metadata": {},
     "output_type": "display_data"
    },
    {
     "data": {
      "image/png": "[encoded data removed]",
      "text/plain": [
       "<Figure size 1080x576 with 6 Axes>"
      ]
     },
     "metadata": {
      "needs_background": "light"
     },
     "output_type": "display_data"
    }
   ],
   "source": [
    "fig, ax = plt.subplots(2, 3, figsize=(15, 8))\n",
    "for variable, subplot in zip(num_cols.columns, ax.flatten()):\n",
    "    z = sns.boxplot(x = num_cols[variable], orient = \"h\",whis=1.5 , ax=subplot)\n",
    "    z.set_xlabel(variable, fontsize = 20)"
   ]
  },
  {
   "cell_type": "code",
   "execution_count": 13,
   "id": "489f458a",
   "metadata": {},
   "outputs": [
    {
     "data": {
      "text/html": [
       "<div>\n",
       "<style scoped>\n",
       "    .dataframe tbody tr th:only-of-type {\n",
       "        vertical-align: middle;\n",
       "    }\n",
       "\n",
       "    .dataframe tbody tr th {\n",
       "        vertical-align: top;\n",
       "    }\n",
       "\n",
       "    .dataframe thead th {\n",
       "        text-align: right;\n",
       "    }\n",
       "</style>\n",
       "<table border=\"1\" class=\"dataframe\">\n",
       "  <thead>\n",
       "    <tr style=\"text-align: right;\">\n",
       "      <th></th>\n",
       "      <th>Age</th>\n",
       "      <th>Gender</th>\n",
       "      <th>Total Bilirubin</th>\n",
       "      <th>Direct Bilirubin</th>\n",
       "      <th>Alkphos</th>\n",
       "      <th>Sgpt</th>\n",
       "      <th>Sgpot</th>\n",
       "      <th>Total Protein</th>\n",
       "      <th>Albumin</th>\n",
       "      <th>A/G Ratio</th>\n",
       "      <th>Selector</th>\n",
       "    </tr>\n",
       "  </thead>\n",
       "  <tbody>\n",
       "    <tr>\n",
       "      <th>0</th>\n",
       "      <td>65</td>\n",
       "      <td>0</td>\n",
       "      <td>0.7</td>\n",
       "      <td>0.1</td>\n",
       "      <td>187</td>\n",
       "      <td>16</td>\n",
       "      <td>18</td>\n",
       "      <td>6.8</td>\n",
       "      <td>3.3</td>\n",
       "      <td>0.90</td>\n",
       "      <td>1</td>\n",
       "    </tr>\n",
       "    <tr>\n",
       "      <th>1</th>\n",
       "      <td>62</td>\n",
       "      <td>1</td>\n",
       "      <td>10.9</td>\n",
       "      <td>5.5</td>\n",
       "      <td>699</td>\n",
       "      <td>64</td>\n",
       "      <td>100</td>\n",
       "      <td>7.5</td>\n",
       "      <td>3.2</td>\n",
       "      <td>0.74</td>\n",
       "      <td>1</td>\n",
       "    </tr>\n",
       "  </tbody>\n",
       "</table>\n",
       "</div>"
      ],
      "text/plain": [
       "   Age  Gender  Total Bilirubin  Direct Bilirubin  Alkphos  Sgpt  Sgpot  \\\n",
       "0   65       0              0.7               0.1      187    16     18   \n",
       "1   62       1             10.9               5.5      699    64    100   \n",
       "\n",
       "   Total Protein  Albumin  A/G Ratio  Selector  \n",
       "0            6.8      3.3       0.90         1  \n",
       "1            7.5      3.2       0.74         1  "
      ]
     },
     "execution_count": 13,
     "metadata": {},
     "output_type": "execute_result"
    }
   ],
   "source": [
    "df.head(2)"
   ]
  },
  {
   "cell_type": "code",
   "execution_count": null,
   "id": "39a62a5d",
   "metadata": {},
   "outputs": [],
   "source": []
  },
  {
   "cell_type": "code",
   "execution_count": 16,
   "id": "9a1d42bc",
   "metadata": {},
   "outputs": [
    {
     "data": {
      "image/png": "[encoded data removed]",
      "text/plain": [
       "<Figure size 1080x864 with 12 Axes>"
      ]
     },
     "metadata": {
      "needs_background": "light"
     },
     "output_type": "display_data"
    }
   ],
   "source": [
    "df.drop('Selector',axis=1).hist()\n",
    "plt.tight_layout()\n",
    "plt.show()"
   ]
  },
  {
   "cell_type": "code",
   "execution_count": 17,
   "id": "fc4320eb",
   "metadata": {},
   "outputs": [
    {
     "data": {
      "text/plain": [
       "Age                 -0.029385\n",
       "Gender              -1.197919\n",
       "Total Bilirubin      4.907474\n",
       "Direct Bilirubin     3.212403\n",
       "Alkphos              3.765106\n",
       "Sgpt                 6.549192\n",
       "Sgpot               10.546177\n",
       "Total Protein       -0.285672\n",
       "Albumin             -0.043685\n",
       "A/G Ratio            0.996780\n",
       "dtype: float64"
      ]
     },
     "execution_count": 17,
     "metadata": {},
     "output_type": "execute_result"
    }
   ],
   "source": [
    "df.drop('Selector',axis=1).skew()"
   ]
  },
  {
   "cell_type": "code",
   "execution_count": 18,
   "id": "2084bebe",
   "metadata": {},
   "outputs": [
    {
     "data": {
      "application/javascript": [
       "\n",
       "        if (window._pyforest_update_imports_cell) { window._pyforest_update_imports_cell('import seaborn as sns\\nimport pandas as pd'); }\n",
       "    "
      ],
      "text/plain": [
       "<IPython.core.display.Javascript object>"
      ]
     },
     "metadata": {},
     "output_type": "display_data"
    },
    {
     "data": {
      "image/png": "[encoded data removed]",
      "text/plain": [
       "<Figure size 1080x864 with 1 Axes>"
      ]
     },
     "metadata": {
      "needs_background": "light"
     },
     "output_type": "display_data"
    }
   ],
   "source": [
    "fig = sns.countplot(df['Selector'])\n",
    "fig.set_xticklabels(['Not_a_liver_patient(0)','Liver_Patient(1)'])\n",
    "plt.text(x = -0.05, y = df['Selector'].value_counts()[0] + 1, \n",
    "         s = str(round((df['Selector'].value_counts()[0])*100/len(df['Selector']),2)) + '%')\n",
    "plt.text(x = 0.95, y = df['Selector'].value_counts()[1] + 1, \n",
    "         s = str(round((df['Selector'].value_counts()[1])*100/len(df['Selector']),2)) + '%')\n",
    "plt.show()"
   ]
  },
  {
   "cell_type": "code",
   "execution_count": 19,
   "id": "b0156436",
   "metadata": {},
   "outputs": [
    {
     "data": {
      "application/javascript": [
       "\n",
       "        if (window._pyforest_update_imports_cell) { window._pyforest_update_imports_cell('import seaborn as sns\\nimport pandas as pd'); }\n",
       "    "
      ],
      "text/plain": [
       "<IPython.core.display.Javascript object>"
      ]
     },
     "metadata": {},
     "output_type": "display_data"
    },
    {
     "data": {
      "image/png": "[encoded data removed]",
      "text/plain": [
       "<Figure size 1080x864 with 2 Axes>"
      ]
     },
     "metadata": {
      "needs_background": "light"
     },
     "output_type": "display_data"
    }
   ],
   "source": [
    "sns.heatmap(df.corr(), \n",
    "            annot=True,linewidths = 0.05, vmin = -1 ,\n",
    "            vmax = 1, cmap = \"YlGnBu\" , fmt = '10.2f')\n",
    "plt.show()"
   ]
  },
  {
   "cell_type": "code",
   "execution_count": 20,
   "id": "9925d8dc",
   "metadata": {},
   "outputs": [
    {
     "data": {
      "text/plain": [
       "Selector            1.000000\n",
       "Direct Bilirubin    0.246046\n",
       "Total Bilirubin     0.220208\n",
       "Alkphos             0.184866\n",
       "Sgpt                0.163416\n",
       "Sgpot               0.151934\n",
       "Age                 0.137351\n",
       "Gender              0.082416\n",
       "Total Protein      -0.035008\n",
       "Albumin            -0.161388\n",
       "A/G Ratio          -0.162144\n",
       "Name: Selector, dtype: float64"
      ]
     },
     "execution_count": 20,
     "metadata": {},
     "output_type": "execute_result"
    }
   ],
   "source": [
    "df.corr()['Selector'].sort_values(ascending=False)"
   ]
  },
  {
   "cell_type": "markdown",
   "id": "e7ebc506",
   "metadata": {},
   "source": [
    "## Imbalanced"
   ]
  },
  {
   "cell_type": "code",
   "execution_count": 21,
   "id": "63525db6",
   "metadata": {},
   "outputs": [],
   "source": [
    "Target = df['Selector']\n",
    "Features = df.drop('Selector', axis=1)"
   ]
  },
  {
   "cell_type": "code",
   "execution_count": null,
   "id": "fab24062",
   "metadata": {},
   "outputs": [],
   "source": [
    "'''\n",
    "cTransformer = ColumnTransformer([('encoder',OneHotEncoder(drop='first'),[1])], remainder='passthrough')\n",
    "cTransformer = cTransformer.fit(Features)\n",
    "Features_encoded = np.array(cTransformer.transform(Features), dtype=np.float32)\n",
    "'''"
   ]
  },
  {
   "cell_type": "code",
   "execution_count": 22,
   "id": "c51b0ccd",
   "metadata": {},
   "outputs": [
    {
     "data": {
      "text/html": [
       "<div>\n",
       "<style scoped>\n",
       "    .dataframe tbody tr th:only-of-type {\n",
       "        vertical-align: middle;\n",
       "    }\n",
       "\n",
       "    .dataframe tbody tr th {\n",
       "        vertical-align: top;\n",
       "    }\n",
       "\n",
       "    .dataframe thead th {\n",
       "        text-align: right;\n",
       "    }\n",
       "</style>\n",
       "<table border=\"1\" class=\"dataframe\">\n",
       "  <thead>\n",
       "    <tr style=\"text-align: right;\">\n",
       "      <th></th>\n",
       "      <th>Age</th>\n",
       "      <th>Gender</th>\n",
       "      <th>Total Bilirubin</th>\n",
       "      <th>Direct Bilirubin</th>\n",
       "      <th>Alkphos</th>\n",
       "      <th>Sgpt</th>\n",
       "      <th>Sgpot</th>\n",
       "      <th>Total Protein</th>\n",
       "      <th>Albumin</th>\n",
       "      <th>A/G Ratio</th>\n",
       "    </tr>\n",
       "  </thead>\n",
       "  <tbody>\n",
       "    <tr>\n",
       "      <th>0</th>\n",
       "      <td>65</td>\n",
       "      <td>0</td>\n",
       "      <td>0.7</td>\n",
       "      <td>0.1</td>\n",
       "      <td>187</td>\n",
       "      <td>16</td>\n",
       "      <td>18</td>\n",
       "      <td>6.8</td>\n",
       "      <td>3.3</td>\n",
       "      <td>0.90</td>\n",
       "    </tr>\n",
       "    <tr>\n",
       "      <th>1</th>\n",
       "      <td>62</td>\n",
       "      <td>1</td>\n",
       "      <td>10.9</td>\n",
       "      <td>5.5</td>\n",
       "      <td>699</td>\n",
       "      <td>64</td>\n",
       "      <td>100</td>\n",
       "      <td>7.5</td>\n",
       "      <td>3.2</td>\n",
       "      <td>0.74</td>\n",
       "    </tr>\n",
       "  </tbody>\n",
       "</table>\n",
       "</div>"
      ],
      "text/plain": [
       "   Age  Gender  Total Bilirubin  Direct Bilirubin  Alkphos  Sgpt  Sgpot  \\\n",
       "0   65       0              0.7               0.1      187    16     18   \n",
       "1   62       1             10.9               5.5      699    64    100   \n",
       "\n",
       "   Total Protein  Albumin  A/G Ratio  \n",
       "0            6.8      3.3       0.90  \n",
       "1            7.5      3.2       0.74  "
      ]
     },
     "execution_count": 22,
     "metadata": {},
     "output_type": "execute_result"
    }
   ],
   "source": [
    "Features.head(2)"
   ]
  },
  {
   "cell_type": "markdown",
   "id": "2fe771f5",
   "metadata": {},
   "source": [
    "## Imbalanced DataSet"
   ]
  },
  {
   "cell_type": "code",
   "execution_count": 23,
   "id": "e62a5d1a",
   "metadata": {},
   "outputs": [
    {
     "name": "stdout",
     "output_type": "stream",
     "text": [
      "X_train:  (466, 10)\n",
      "y_train:  (466,)\n",
      "X_test:  (117, 10)\n",
      "y_test:  (117,)\n"
     ]
    }
   ],
   "source": [
    "from sklearn.model_selection import train_test_split\n",
    "X_train, X_test, y_train, y_test = train_test_split(Features,Target, test_size=0.2, random_state=15)\n",
    "print(\"X_train: \", X_train.shape)\n",
    "print(\"y_train: \", y_train.shape)\n",
    "print(\"X_test: \", X_test.shape)\n",
    "print(\"y_test: \", y_test.shape)"
   ]
  },
  {
   "cell_type": "code",
   "execution_count": 24,
   "id": "0ca1ecac",
   "metadata": {},
   "outputs": [
    {
     "name": "stdout",
     "output_type": "stream",
     "text": [
      "Model Name:  LogisticRegression()\n",
      "Accuracy score:  0.7777777777777778\n",
      "Confusion Matrix: \n",
      " [[ 8 21]\n",
      " [ 5 83]]\n",
      "\n",
      "\n",
      "Model Name:  KNeighborsClassifier()\n",
      "Accuracy score:  0.7350427350427351\n",
      "Confusion Matrix: \n",
      " [[12 17]\n",
      " [14 74]]\n",
      "\n",
      "\n",
      "Model Name:  GaussianNB()\n",
      "Accuracy score:  0.5555555555555556\n",
      "Confusion Matrix: \n",
      " [[28  1]\n",
      " [51 37]]\n",
      "\n",
      "\n",
      "Model Name:  DecisionTreeClassifier()\n",
      "Accuracy score:  0.6923076923076923\n",
      "Confusion Matrix: \n",
      " [[ 8 21]\n",
      " [15 73]]\n",
      "\n",
      "\n",
      "Model Name:  RandomForestClassifier()\n",
      "Accuracy score:  0.7606837606837606\n",
      "Confusion Matrix: \n",
      " [[ 8 21]\n",
      " [ 7 81]]\n",
      "\n",
      "\n",
      "Model Name:  AdaBoostClassifier()\n",
      "Accuracy score:  0.7692307692307693\n",
      "Confusion Matrix: \n",
      " [[12 17]\n",
      " [10 78]]\n",
      "\n",
      "\n",
      "Model Name:  GradientBoostingClassifier()\n",
      "Accuracy score:  0.7435897435897436\n",
      "Confusion Matrix: \n",
      " [[ 8 21]\n",
      " [ 9 79]]\n",
      "\n",
      "\n",
      "Model Name:  XGBClassifier(base_score=None, booster=None, colsample_bylevel=None,\n",
      "              colsample_bynode=None, colsample_bytree=None,\n",
      "              enable_categorical=False, gamma=None, gpu_id=None,\n",
      "              importance_type=None, interaction_constraints=None,\n",
      "              learning_rate=None, max_delta_step=None, max_depth=None,\n",
      "              min_child_weight=None, missing=nan, monotone_constraints=None,\n",
      "              n_estimators=100, n_jobs=None, num_parallel_tree=None,\n",
      "              predictor=None, random_state=None, reg_alpha=None,\n",
      "              reg_lambda=None, scale_pos_weight=None, subsample=None,\n",
      "              tree_method=None, validate_parameters=None, verbosity=None)\n",
      "[18:54:54] WARNING: C:/Users/Administrator/workspace/xgboost-win64_release_1.5.1/src/learner.cc:1115: Starting in XGBoost 1.3.0, the default evaluation metric used with the objective 'binary:logistic' was changed from 'error' to 'logloss'. Explicitly set eval_metric if you'd like to restore the old behavior.\n",
      "Accuracy score:  0.7606837606837606\n",
      "Confusion Matrix: \n",
      " [[11 18]\n",
      " [10 78]]\n",
      "\n",
      "\n"
     ]
    }
   ],
   "source": [
    "models = list()\n",
    "\n",
    "models.append(LogisticRegression())\n",
    "models.append(KNeighborsClassifier())\n",
    "models.append(GaussianNB())\n",
    "models.append(DecisionTreeClassifier())\n",
    "models.append(RandomForestClassifier())\n",
    "models.append(AdaBoostClassifier())\n",
    "models.append(GradientBoostingClassifier())\n",
    "models.append(XGBClassifier())\n",
    "\n",
    "for mods in models:\n",
    "    print('Model Name: ', mods)\n",
    "    clf = mods\n",
    "    model = clf.fit(X_train, y_train)\n",
    "    print('Accuracy score: ', accuracy_score(y_test, model.predict(X_test)))\n",
    "    print('Confusion Matrix:','\\n', confusion_matrix(y_test,model.predict(X_test)))\n",
    "    print('\\n')\n",
    "          "
   ]
  },
  {
   "cell_type": "code",
   "execution_count": null,
   "id": "391352ad",
   "metadata": {},
   "outputs": [],
   "source": [
    "#pip install imblearn"
   ]
  },
  {
   "cell_type": "markdown",
   "id": "13631a4d",
   "metadata": {},
   "source": [
    "## Balanced"
   ]
  },
  {
   "cell_type": "code",
   "execution_count": 25,
   "id": "0fa15d85",
   "metadata": {},
   "outputs": [],
   "source": [
    "import imblearn"
   ]
  },
  {
   "cell_type": "code",
   "execution_count": 26,
   "id": "21029773",
   "metadata": {},
   "outputs": [
    {
     "name": "stdout",
     "output_type": "stream",
     "text": [
      "Before SMOTE:  Counter({1: 328, 0: 138})\n",
      "After SMOTE:  Counter({0: 328, 1: 328})\n"
     ]
    }
   ],
   "source": [
    "from imblearn.over_sampling import SMOTE\n",
    "from collections import Counter\n",
    "smote = SMOTE()\n",
    "X_sm,  y_sm =  smote.fit_resample(X_train, y_train)\n",
    "print(\"Before SMOTE: \", Counter(y_train))\n",
    "print(\"After SMOTE: \", Counter(y_sm))"
   ]
  },
  {
   "cell_type": "code",
   "execution_count": 27,
   "id": "e9b4febb",
   "metadata": {},
   "outputs": [
    {
     "name": "stdout",
     "output_type": "stream",
     "text": [
      "Before SMOTE:  Counter({1: 88, 0: 29})\n",
      "After SMOTE:  Counter({0: 88, 1: 88})\n"
     ]
    }
   ],
   "source": [
    "smote = SMOTE()\n",
    "X_sm_test,  y_sm_test =  smote.fit_resample(X_test, y_test)\n",
    "print(\"Before SMOTE: \", Counter(y_test))\n",
    "print(\"After SMOTE: \", Counter(y_sm_test))"
   ]
  },
  {
   "cell_type": "code",
   "execution_count": 29,
   "id": "1103c1fb",
   "metadata": {},
   "outputs": [],
   "source": [
    "def get_train_report(model):\n",
    "    train_pred = model.predict(X_sm)\n",
    "    return(classification_report(y_sm, train_pred))\n",
    "\n",
    "def get_test_report(model):\n",
    "    test_pred = model.predict(X_sm_test)\n",
    "    return(classification_report(y_sm_test, test_pred))\n",
    "\n",
    "def plot_confusion_matrix(model):\n",
    "    y_pred = model.predict(X_sm_test)\n",
    "    cm = confusion_matrix(y_sm_test, y_pred)\n",
    "    conf_matrix = pd.DataFrame(data = cm,columns = ['Predicted:0','Predicted:1'], index = ['Actual:0','Actual:1'])\n",
    "    sns.heatmap(conf_matrix, annot = True,  cbar = False,linewidths = 0.1, annot_kws = {'size':25})\n",
    "    plt.xticks(fontsize = 20)\n",
    "    plt.yticks(fontsize = 20)\n",
    "    plt.show()\n",
    "    \n",
    "def plot_roc(model):\n",
    "    y_pred_prob = model.predict_proba(X_sm_test)[:,1]\n",
    "    fpr, tpr, thresholds = roc_curve(y_sm_test, y_pred_prob)\n",
    "    plt.plot(fpr, tpr)\n",
    "    plt.xlim([0.0, 1.0])\n",
    "    plt.ylim([0.0, 1.0])\n",
    "    plt.plot([0, 1], [0, 1],'r--')\n",
    "    plt.title('ROC curve for Liver Prediction Classifier', fontsize = 15)\n",
    "    plt.xlabel('False positive rate (1-Specificity)', fontsize = 15)\n",
    "    plt.ylabel('True positive rate (Sensitivity)', fontsize = 15)\n",
    "    plt.text(x = 0.02, y = 0.9, s = ('AUC Score:',round(roc_auc_score(y_sm_test, y_pred_prob),4)))\n",
    "    plt.grid(True)"
   ]
  },
  {
   "cell_type": "code",
   "execution_count": 30,
   "id": "ec8f70eb",
   "metadata": {},
   "outputs": [
    {
     "name": "stdout",
     "output_type": "stream",
     "text": [
      "Model Name:  LogisticRegression()\n",
      "Accuracy score:  0.75\n",
      "Confusion Matrix: \n",
      " [[78 10]\n",
      " [34 54]]\n",
      "\n",
      "\n",
      "Classification Train report: \n",
      "              precision    recall  f1-score   support\n",
      "\n",
      "           0       0.67      0.84      0.75       328\n",
      "           1       0.78      0.59      0.68       328\n",
      "\n",
      "    accuracy                           0.71       656\n",
      "   macro avg       0.73      0.71      0.71       656\n",
      "weighted avg       0.73      0.71      0.71       656\n",
      "\n",
      "Classification Test report: \n",
      "              precision    recall  f1-score   support\n",
      "\n",
      "           0       0.70      0.89      0.78        88\n",
      "           1       0.84      0.61      0.71        88\n",
      "\n",
      "    accuracy                           0.75       176\n",
      "   macro avg       0.77      0.75      0.75       176\n",
      "weighted avg       0.77      0.75      0.75       176\n",
      "\n",
      "Model Name:  KNeighborsClassifier()\n",
      "Accuracy score:  0.5965909090909091\n",
      "Confusion Matrix: \n",
      " [[46 42]\n",
      " [29 59]]\n",
      "\n",
      "\n",
      "Classification Train report: \n",
      "              precision    recall  f1-score   support\n",
      "\n",
      "           0       0.75      0.93      0.83       328\n",
      "           1       0.90      0.69      0.78       328\n",
      "\n",
      "    accuracy                           0.81       656\n",
      "   macro avg       0.83      0.81      0.80       656\n",
      "weighted avg       0.83      0.81      0.80       656\n",
      "\n",
      "Classification Test report: \n",
      "              precision    recall  f1-score   support\n",
      "\n",
      "           0       0.61      0.52      0.56        88\n",
      "           1       0.58      0.67      0.62        88\n",
      "\n",
      "    accuracy                           0.60       176\n",
      "   macro avg       0.60      0.60      0.59       176\n",
      "weighted avg       0.60      0.60      0.59       176\n",
      "\n",
      "Model Name:  GaussianNB()\n",
      "Accuracy score:  0.6875\n",
      "Confusion Matrix: \n",
      " [[84  4]\n",
      " [51 37]]\n",
      "\n",
      "\n",
      "Classification Train report: \n",
      "              precision    recall  f1-score   support\n",
      "\n",
      "           0       0.62      0.95      0.75       328\n",
      "           1       0.90      0.42      0.57       328\n",
      "\n",
      "    accuracy                           0.68       656\n",
      "   macro avg       0.76      0.68      0.66       656\n",
      "weighted avg       0.76      0.68      0.66       656\n",
      "\n",
      "Classification Test report: \n",
      "              precision    recall  f1-score   support\n",
      "\n",
      "           0       0.62      0.95      0.75        88\n",
      "           1       0.90      0.42      0.57        88\n",
      "\n",
      "    accuracy                           0.69       176\n",
      "   macro avg       0.76      0.69      0.66       176\n",
      "weighted avg       0.76      0.69      0.66       176\n",
      "\n",
      "Model Name:  DecisionTreeClassifier()\n",
      "Accuracy score:  0.7102272727272727\n",
      "Confusion Matrix: \n",
      " [[59 29]\n",
      " [22 66]]\n",
      "\n",
      "\n",
      "Classification Train report: \n",
      "              precision    recall  f1-score   support\n",
      "\n",
      "           0       1.00      1.00      1.00       328\n",
      "           1       1.00      1.00      1.00       328\n",
      "\n",
      "    accuracy                           1.00       656\n",
      "   macro avg       1.00      1.00      1.00       656\n",
      "weighted avg       1.00      1.00      1.00       656\n",
      "\n",
      "Classification Test report: \n",
      "              precision    recall  f1-score   support\n",
      "\n",
      "           0       0.73      0.67      0.70        88\n",
      "           1       0.69      0.75      0.72        88\n",
      "\n",
      "    accuracy                           0.71       176\n",
      "   macro avg       0.71      0.71      0.71       176\n",
      "weighted avg       0.71      0.71      0.71       176\n",
      "\n",
      "Model Name:  RandomForestClassifier()\n",
      "Accuracy score:  0.7215909090909091\n",
      "Confusion Matrix: \n",
      " [[52 36]\n",
      " [13 75]]\n",
      "\n",
      "\n",
      "Classification Train report: \n",
      "              precision    recall  f1-score   support\n",
      "\n",
      "           0       1.00      1.00      1.00       328\n",
      "           1       1.00      1.00      1.00       328\n",
      "\n",
      "    accuracy                           1.00       656\n",
      "   macro avg       1.00      1.00      1.00       656\n",
      "weighted avg       1.00      1.00      1.00       656\n",
      "\n",
      "Classification Test report: \n",
      "              precision    recall  f1-score   support\n",
      "\n",
      "           0       0.80      0.59      0.68        88\n",
      "           1       0.68      0.85      0.75        88\n",
      "\n",
      "    accuracy                           0.72       176\n",
      "   macro avg       0.74      0.72      0.72       176\n",
      "weighted avg       0.74      0.72      0.72       176\n",
      "\n",
      "Model Name:  AdaBoostClassifier()\n",
      "Accuracy score:  0.7272727272727273\n",
      "Confusion Matrix: \n",
      " [[62 26]\n",
      " [22 66]]\n",
      "\n",
      "\n",
      "Classification Train report: \n",
      "              precision    recall  f1-score   support\n",
      "\n",
      "           0       0.79      0.90      0.84       328\n",
      "           1       0.89      0.76      0.82       328\n",
      "\n",
      "    accuracy                           0.83       656\n",
      "   macro avg       0.84      0.83      0.83       656\n",
      "weighted avg       0.84      0.83      0.83       656\n",
      "\n",
      "Classification Test report: \n",
      "              precision    recall  f1-score   support\n",
      "\n",
      "           0       0.74      0.70      0.72        88\n",
      "           1       0.72      0.75      0.73        88\n",
      "\n",
      "    accuracy                           0.73       176\n",
      "   macro avg       0.73      0.73      0.73       176\n",
      "weighted avg       0.73      0.73      0.73       176\n",
      "\n",
      "Model Name:  XGBClassifier(base_score=None, booster=None, colsample_bylevel=None,\n",
      "              colsample_bynode=None, colsample_bytree=None,\n",
      "              enable_categorical=False, gamma=None, gpu_id=None,\n",
      "              importance_type=None, interaction_constraints=None,\n",
      "              learning_rate=None, max_delta_step=None, max_depth=None,\n",
      "              min_child_weight=None, missing=nan, monotone_constraints=None,\n",
      "              n_estimators=100, n_jobs=None, num_parallel_tree=None,\n",
      "              predictor=None, random_state=None, reg_alpha=None,\n",
      "              reg_lambda=None, scale_pos_weight=None, subsample=None,\n",
      "              tree_method=None, validate_parameters=None, verbosity=None)\n",
      "[18:55:43] WARNING: C:/Users/Administrator/workspace/xgboost-win64_release_1.5.1/src/learner.cc:1115: Starting in XGBoost 1.3.0, the default evaluation metric used with the objective 'binary:logistic' was changed from 'error' to 'logloss'. Explicitly set eval_metric if you'd like to restore the old behavior.\n",
      "Accuracy score:  0.7329545454545454\n",
      "Confusion Matrix: \n",
      " [[53 35]\n",
      " [12 76]]\n",
      "\n",
      "\n",
      "Classification Train report: \n",
      "              precision    recall  f1-score   support\n",
      "\n",
      "           0       1.00      1.00      1.00       328\n",
      "           1       1.00      1.00      1.00       328\n",
      "\n",
      "    accuracy                           1.00       656\n",
      "   macro avg       1.00      1.00      1.00       656\n",
      "weighted avg       1.00      1.00      1.00       656\n",
      "\n",
      "Classification Test report: \n",
      "              precision    recall  f1-score   support\n",
      "\n",
      "           0       0.82      0.60      0.69        88\n",
      "           1       0.68      0.86      0.76        88\n",
      "\n",
      "    accuracy                           0.73       176\n",
      "   macro avg       0.75      0.73      0.73       176\n",
      "weighted avg       0.75      0.73      0.73       176\n",
      "\n"
     ]
    }
   ],
   "source": [
    "models = list()\n",
    "models.append(LogisticRegression())\n",
    "models.append(KNeighborsClassifier())\n",
    "models.append(GaussianNB())\n",
    "models.append(DecisionTreeClassifier())\n",
    "models.append(RandomForestClassifier())\n",
    "models.append(AdaBoostClassifier())\n",
    "models.append(XGBClassifier())\n",
    "\n",
    "for mods in models:\n",
    "    print('Model Name: ', mods)\n",
    "    clf = mods\n",
    "    model = clf.fit(X_sm,  y_sm)\n",
    "    print('Accuracy score: ', accuracy_score(y_sm_test, model.predict(X_sm_test)))\n",
    "    print('Confusion Matrix:','\\n', confusion_matrix(y_sm_test,model.predict(X_sm_test)))\n",
    "    print('\\n')\n",
    "    print(\"Classification Train report: \")\n",
    "    train_report = get_train_report(model)\n",
    "    print(train_report)\n",
    "    print(\"Classification Test report: \")\n",
    "    test_report = get_test_report(model)\n",
    "    print(test_report)\n"
   ]
  },
  {
   "cell_type": "code",
   "execution_count": 31,
   "id": "273ae3ec",
   "metadata": {},
   "outputs": [],
   "source": [
    "gnb = GaussianNB()\n",
    "gnb_model = gnb.fit(X_sm,y_sm)"
   ]
  },
  {
   "cell_type": "code",
   "execution_count": 32,
   "id": "8b0eae65",
   "metadata": {},
   "outputs": [
    {
     "name": "stdout",
     "output_type": "stream",
     "text": [
      "Accuracy of the model:  0.69\n"
     ]
    }
   ],
   "source": [
    "y_pred = gnb_model.predict(X_sm_test)\n",
    "cfm=confusion_matrix(y_sm_test,y_pred)\n",
    "acc=accuracy_score(y_sm_test, y_pred)\n",
    "print(\"Accuracy of the model: \",round(acc,2))"
   ]
  },
  {
   "cell_type": "code",
   "execution_count": 33,
   "id": "6bbcb1a7",
   "metadata": {},
   "outputs": [
    {
     "name": "stdout",
     "output_type": "stream",
     "text": [
      "              precision    recall  f1-score   support\n",
      "\n",
      "           0       0.62      0.95      0.75       328\n",
      "           1       0.90      0.42      0.57       328\n",
      "\n",
      "    accuracy                           0.68       656\n",
      "   macro avg       0.76      0.68      0.66       656\n",
      "weighted avg       0.76      0.68      0.66       656\n",
      "\n"
     ]
    }
   ],
   "source": [
    "print(get_train_report(gnb_model))"
   ]
  },
  {
   "cell_type": "code",
   "execution_count": 34,
   "id": "3f553dea",
   "metadata": {},
   "outputs": [
    {
     "name": "stdout",
     "output_type": "stream",
     "text": [
      "              precision    recall  f1-score   support\n",
      "\n",
      "           0       0.62      0.95      0.75        88\n",
      "           1       0.90      0.42      0.57        88\n",
      "\n",
      "    accuracy                           0.69       176\n",
      "   macro avg       0.76      0.69      0.66       176\n",
      "weighted avg       0.76      0.69      0.66       176\n",
      "\n"
     ]
    }
   ],
   "source": [
    "print(get_test_report(gnb_model))"
   ]
  },
  {
   "cell_type": "code",
   "execution_count": 35,
   "id": "325c4f6c",
   "metadata": {},
   "outputs": [
    {
     "data": {
      "application/javascript": [
       "\n",
       "        if (window._pyforest_update_imports_cell) { window._pyforest_update_imports_cell('import seaborn as sns\\nimport pandas as pd'); }\n",
       "    "
      ],
      "text/plain": [
       "<IPython.core.display.Javascript object>"
      ]
     },
     "metadata": {},
     "output_type": "display_data"
    },
    {
     "data": {
      "application/javascript": [
       "\n",
       "        if (window._pyforest_update_imports_cell) { window._pyforest_update_imports_cell('import seaborn as sns\\nimport pandas as pd'); }\n",
       "    "
      ],
      "text/plain": [
       "<IPython.core.display.Javascript object>"
      ]
     },
     "metadata": {},
     "output_type": "display_data"
    },
    {
     "data": {
      "image/png": "[encoded data removed]",
      "text/plain": [
       "<Figure size 1080x864 with 1 Axes>"
      ]
     },
     "metadata": {
      "needs_background": "light"
     },
     "output_type": "display_data"
    }
   ],
   "source": [
    "plot_confusion_matrix(gnb_model)"
   ]
  },
  {
   "cell_type": "code",
   "execution_count": 36,
   "id": "89445d0a",
   "metadata": {},
   "outputs": [
    {
     "data": {
      "image/png": "[encoded data removed]",
      "text/plain": [
       "<Figure size 1080x864 with 1 Axes>"
      ]
     },
     "metadata": {
      "needs_background": "light"
     },
     "output_type": "display_data"
    }
   ],
   "source": [
    "plot_roc(gnb_model)"
   ]
  },
  {
   "cell_type": "markdown",
   "id": "78bab9fd",
   "metadata": {},
   "source": [
    "## ADa boosting"
   ]
  },
  {
   "cell_type": "code",
   "execution_count": 37,
   "id": "10de1d00",
   "metadata": {},
   "outputs": [
    {
     "data": {
      "text/html": [
       "<style>#sk-container-id-1 {color: black;background-color: white;}#sk-container-id-1 pre{padding: 0;}#sk-container-id-1 div.sk-toggleable {background-color: white;}#sk-container-id-1 label.sk-toggleable__label {cursor: pointer;display: block;width: 100%;margin-bottom: 0;padding: 0.3em;box-sizing: border-box;text-align: center;}#sk-container-id-1 label.sk-toggleable__label-arrow:before {content: \"▸\";float: left;margin-right: 0.25em;color: #696969;}#sk-container-id-1 label.sk-toggleable__label-arrow:hover:before {color: black;}#sk-container-id-1 div.sk-estimator:hover label.sk-toggleable__label-arrow:before {color: black;}#sk-container-id-1 div.sk-toggleable__content {max-height: 0;max-width: 0;overflow: hidden;text-align: left;background-color: #f0f8ff;}#sk-container-id-1 div.sk-toggleable__content pre {margin: 0.2em;color: black;border-radius: 0.25em;background-color: #f0f8ff;}#sk-container-id-1 input.sk-toggleable__control:checked~div.sk-toggleable__content {max-height: 200px;max-width: 100%;overflow: auto;}#sk-container-id-1 input.sk-toggleable__control:checked~label.sk-toggleable__label-arrow:before {content: \"▾\";}#sk-container-id-1 div.sk-estimator input.sk-toggleable__control:checked~label.sk-toggleable__label {background-color: #d4ebff;}#sk-container-id-1 div.sk-label input.sk-toggleable__control:checked~label.sk-toggleable__label {background-color: #d4ebff;}#sk-container-id-1 input.sk-hidden--visually {border: 0;clip: rect(1px 1px 1px 1px);clip: rect(1px, 1px, 1px, 1px);height: 1px;margin: -1px;overflow: hidden;padding: 0;position: absolute;width: 1px;}#sk-container-id-1 div.sk-estimator {font-family: monospace;background-color: #f0f8ff;border: 1px dotted black;border-radius: 0.25em;box-sizing: border-box;margin-bottom: 0.5em;}#sk-container-id-1 div.sk-estimator:hover {background-color: #d4ebff;}#sk-container-id-1 div.sk-parallel-item::after {content: \"\";width: 100%;border-bottom: 1px solid gray;flex-grow: 1;}#sk-container-id-1 div.sk-label:hover label.sk-toggleable__label {background-color: #d4ebff;}#sk-container-id-1 div.sk-serial::before {content: \"\";position: absolute;border-left: 1px solid gray;box-sizing: border-box;top: 0;bottom: 0;left: 50%;z-index: 0;}#sk-container-id-1 div.sk-serial {display: flex;flex-direction: column;align-items: center;background-color: white;padding-right: 0.2em;padding-left: 0.2em;position: relative;}#sk-container-id-1 div.sk-item {position: relative;z-index: 1;}#sk-container-id-1 div.sk-parallel {display: flex;align-items: stretch;justify-content: center;background-color: white;position: relative;}#sk-container-id-1 div.sk-item::before, #sk-container-id-1 div.sk-parallel-item::before {content: \"\";position: absolute;border-left: 1px solid gray;box-sizing: border-box;top: 0;bottom: 0;left: 50%;z-index: -1;}#sk-container-id-1 div.sk-parallel-item {display: flex;flex-direction: column;z-index: 1;position: relative;background-color: white;}#sk-container-id-1 div.sk-parallel-item:first-child::after {align-self: flex-end;width: 50%;}#sk-container-id-1 div.sk-parallel-item:last-child::after {align-self: flex-start;width: 50%;}#sk-container-id-1 div.sk-parallel-item:only-child::after {width: 0;}#sk-container-id-1 div.sk-dashed-wrapped {border: 1px dashed gray;margin: 0 0.4em 0.5em 0.4em;box-sizing: border-box;padding-bottom: 0.4em;background-color: white;}#sk-container-id-1 div.sk-label label {font-family: monospace;font-weight: bold;display: inline-block;line-height: 1.2em;}#sk-container-id-1 div.sk-label-container {text-align: center;}#sk-container-id-1 div.sk-container {/* jupyter's `normalize.less` sets `[hidden] { display: none; }` but bootstrap.min.css set `[hidden] { display: none !important; }` so we also need the `!important` here to be able to override the default hidden behavior on the sphinx rendered scikit-learn.org. See: https://github.com/scikit-learn/scikit-learn/issues/21755 */display: inline-block !important;position: relative;}#sk-container-id-1 div.sk-text-repr-fallback {display: none;}</style><div id=\"sk-container-id-1\" class=\"sk-top-container\"><div class=\"sk-text-repr-fallback\"><pre>AdaBoostClassifier()</pre><b>In a Jupyter environment, please rerun this cell to show the HTML representation or trust the notebook. <br />On GitHub, the HTML representation is unable to render, please try loading this page with nbviewer.org.</b></div><div class=\"sk-container\" hidden><div class=\"sk-item\"><div class=\"sk-estimator sk-toggleable\"><input class=\"sk-toggleable__control sk-hidden--visually\" id=\"sk-estimator-id-1\" type=\"checkbox\" checked><label for=\"sk-estimator-id-1\" class=\"sk-toggleable__label sk-toggleable__label-arrow\">AdaBoostClassifier</label><div class=\"sk-toggleable__content\"><pre>AdaBoostClassifier()</pre></div></div></div></div></div>"
      ],
      "text/plain": [
       "AdaBoostClassifier()"
      ]
     },
     "execution_count": 37,
     "metadata": {},
     "output_type": "execute_result"
    }
   ],
   "source": [
    "ada_model = AdaBoostClassifier()\n",
    "ada_model.fit(X_sm, y_sm)"
   ]
  },
  {
   "cell_type": "code",
   "execution_count": 38,
   "id": "ab153a86",
   "metadata": {},
   "outputs": [
    {
     "name": "stdout",
     "output_type": "stream",
     "text": [
      "Accuracy of the model:  0.73\n"
     ]
    }
   ],
   "source": [
    "y_pred = ada_model.predict(X_sm_test)\n",
    "cfm=confusion_matrix(y_sm_test,y_pred)\n",
    "acc=accuracy_score(y_sm_test, y_pred)\n",
    "print(\"Accuracy of the model: \",round(acc,2))"
   ]
  },
  {
   "cell_type": "code",
   "execution_count": 39,
   "id": "8f66c2ea",
   "metadata": {},
   "outputs": [
    {
     "name": "stdout",
     "output_type": "stream",
     "text": [
      "              precision    recall  f1-score   support\n",
      "\n",
      "           0       0.79      0.90      0.84       328\n",
      "           1       0.89      0.76      0.82       328\n",
      "\n",
      "    accuracy                           0.83       656\n",
      "   macro avg       0.84      0.83      0.83       656\n",
      "weighted avg       0.84      0.83      0.83       656\n",
      "\n"
     ]
    }
   ],
   "source": [
    "print(get_train_report(ada_model))"
   ]
  },
  {
   "cell_type": "code",
   "execution_count": 40,
   "id": "0504c59b",
   "metadata": {},
   "outputs": [
    {
     "name": "stdout",
     "output_type": "stream",
     "text": [
      "              precision    recall  f1-score   support\n",
      "\n",
      "           0       0.74      0.70      0.72        88\n",
      "           1       0.72      0.75      0.73        88\n",
      "\n",
      "    accuracy                           0.73       176\n",
      "   macro avg       0.73      0.73      0.73       176\n",
      "weighted avg       0.73      0.73      0.73       176\n",
      "\n"
     ]
    }
   ],
   "source": [
    "print(get_test_report(ada_model))"
   ]
  },
  {
   "cell_type": "code",
   "execution_count": 41,
   "id": "5ba7f59d",
   "metadata": {},
   "outputs": [
    {
     "data": {
      "application/javascript": [
       "\n",
       "        if (window._pyforest_update_imports_cell) { window._pyforest_update_imports_cell('import seaborn as sns\\nimport pandas as pd'); }\n",
       "    "
      ],
      "text/plain": [
       "<IPython.core.display.Javascript object>"
      ]
     },
     "metadata": {},
     "output_type": "display_data"
    },
    {
     "data": {
      "application/javascript": [
       "\n",
       "        if (window._pyforest_update_imports_cell) { window._pyforest_update_imports_cell('import seaborn as sns\\nimport pandas as pd'); }\n",
       "    "
      ],
      "text/plain": [
       "<IPython.core.display.Javascript object>"
      ]
     },
     "metadata": {},
     "output_type": "display_data"
    },
    {
     "data": {
      "image/png": "[encoded data removed]",
      "text/plain": [
       "<Figure size 1080x864 with 1 Axes>"
      ]
     },
     "metadata": {
      "needs_background": "light"
     },
     "output_type": "display_data"
    }
   ],
   "source": [
    "plot_confusion_matrix(ada_model)"
   ]
  },
  {
   "cell_type": "code",
   "execution_count": 42,
   "id": "90736cda",
   "metadata": {},
   "outputs": [
    {
     "data": {
      "image/png": "[encoded data removed]",
      "text/plain": [
       "<Figure size 1080x864 with 1 Axes>"
      ]
     },
     "metadata": {
      "needs_background": "light"
     },
     "output_type": "display_data"
    }
   ],
   "source": [
    "plot_roc(ada_model)"
   ]
  },
  {
   "cell_type": "markdown",
   "id": "9b071583",
   "metadata": {},
   "source": [
    "## Parameter tuning"
   ]
  },
  {
   "cell_type": "code",
   "execution_count": 43,
   "id": "166b70a5",
   "metadata": {},
   "outputs": [
    {
     "name": "stdout",
     "output_type": "stream",
     "text": [
      "Best parameters for AdaBoost classifier:  {'learning_rate': 0.5, 'n_estimators': 42} \n",
      "\n"
     ]
    }
   ],
   "source": [
    "tuning_parameters = [{'learning_rate': [0.1, 0.2, 0.3, 0.4, 0.5, 0.6],\n",
    "                     'n_estimators': range(10,50)}]\n",
    "                     \n",
    "ada_x_model = AdaBoostClassifier(random_state=10)\n",
    "\n",
    "ada_grid = GridSearchCV(estimator = ada_x_model, param_grid = tuning_parameters, cv = 3, scoring = 'roc_auc')\n",
    "\n",
    "ada_grid.fit(X_sm, y_sm)\n",
    "\n",
    "print('Best parameters for AdaBoost classifier: ', ada_grid.best_params_, '\\n')"
   ]
  },
  {
   "cell_type": "code",
   "execution_count": 87,
   "id": "5289e83f",
   "metadata": {},
   "outputs": [
    {
     "data": {
      "text/html": [
       "<style>#sk-container-id-17 {color: black;background-color: white;}#sk-container-id-17 pre{padding: 0;}#sk-container-id-17 div.sk-toggleable {background-color: white;}#sk-container-id-17 label.sk-toggleable__label {cursor: pointer;display: block;width: 100%;margin-bottom: 0;padding: 0.3em;box-sizing: border-box;text-align: center;}#sk-container-id-17 label.sk-toggleable__label-arrow:before {content: \"▸\";float: left;margin-right: 0.25em;color: #696969;}#sk-container-id-17 label.sk-toggleable__label-arrow:hover:before {color: black;}#sk-container-id-17 div.sk-estimator:hover label.sk-toggleable__label-arrow:before {color: black;}#sk-container-id-17 div.sk-toggleable__content {max-height: 0;max-width: 0;overflow: hidden;text-align: left;background-color: #f0f8ff;}#sk-container-id-17 div.sk-toggleable__content pre {margin: 0.2em;color: black;border-radius: 0.25em;background-color: #f0f8ff;}#sk-container-id-17 input.sk-toggleable__control:checked~div.sk-toggleable__content {max-height: 200px;max-width: 100%;overflow: auto;}#sk-container-id-17 input.sk-toggleable__control:checked~label.sk-toggleable__label-arrow:before {content: \"▾\";}#sk-container-id-17 div.sk-estimator input.sk-toggleable__control:checked~label.sk-toggleable__label {background-color: #d4ebff;}#sk-container-id-17 div.sk-label input.sk-toggleable__control:checked~label.sk-toggleable__label {background-color: #d4ebff;}#sk-container-id-17 input.sk-hidden--visually {border: 0;clip: rect(1px 1px 1px 1px);clip: rect(1px, 1px, 1px, 1px);height: 1px;margin: -1px;overflow: hidden;padding: 0;position: absolute;width: 1px;}#sk-container-id-17 div.sk-estimator {font-family: monospace;background-color: #f0f8ff;border: 1px dotted black;border-radius: 0.25em;box-sizing: border-box;margin-bottom: 0.5em;}#sk-container-id-17 div.sk-estimator:hover {background-color: #d4ebff;}#sk-container-id-17 div.sk-parallel-item::after {content: \"\";width: 100%;border-bottom: 1px solid gray;flex-grow: 1;}#sk-container-id-17 div.sk-label:hover label.sk-toggleable__label {background-color: #d4ebff;}#sk-container-id-17 div.sk-serial::before {content: \"\";position: absolute;border-left: 1px solid gray;box-sizing: border-box;top: 0;bottom: 0;left: 50%;z-index: 0;}#sk-container-id-17 div.sk-serial {display: flex;flex-direction: column;align-items: center;background-color: white;padding-right: 0.2em;padding-left: 0.2em;position: relative;}#sk-container-id-17 div.sk-item {position: relative;z-index: 1;}#sk-container-id-17 div.sk-parallel {display: flex;align-items: stretch;justify-content: center;background-color: white;position: relative;}#sk-container-id-17 div.sk-item::before, #sk-container-id-17 div.sk-parallel-item::before {content: \"\";position: absolute;border-left: 1px solid gray;box-sizing: border-box;top: 0;bottom: 0;left: 50%;z-index: -1;}#sk-container-id-17 div.sk-parallel-item {display: flex;flex-direction: column;z-index: 1;position: relative;background-color: white;}#sk-container-id-17 div.sk-parallel-item:first-child::after {align-self: flex-end;width: 50%;}#sk-container-id-17 div.sk-parallel-item:last-child::after {align-self: flex-start;width: 50%;}#sk-container-id-17 div.sk-parallel-item:only-child::after {width: 0;}#sk-container-id-17 div.sk-dashed-wrapped {border: 1px dashed gray;margin: 0 0.4em 0.5em 0.4em;box-sizing: border-box;padding-bottom: 0.4em;background-color: white;}#sk-container-id-17 div.sk-label label {font-family: monospace;font-weight: bold;display: inline-block;line-height: 1.2em;}#sk-container-id-17 div.sk-label-container {text-align: center;}#sk-container-id-17 div.sk-container {/* jupyter's `normalize.less` sets `[hidden] { display: none; }` but bootstrap.min.css set `[hidden] { display: none !important; }` so we also need the `!important` here to be able to override the default hidden behavior on the sphinx rendered scikit-learn.org. See: https://github.com/scikit-learn/scikit-learn/issues/21755 */display: inline-block !important;position: relative;}#sk-container-id-17 div.sk-text-repr-fallback {display: none;}</style><div id=\"sk-container-id-17\" class=\"sk-top-container\"><div class=\"sk-text-repr-fallback\"><pre>AdaBoostClassifier(learning_rate=0.4, n_estimators=37, random_state=10)</pre><b>In a Jupyter environment, please rerun this cell to show the HTML representation or trust the notebook. <br />On GitHub, the HTML representation is unable to render, please try loading this page with nbviewer.org.</b></div><div class=\"sk-container\" hidden><div class=\"sk-item\"><div class=\"sk-estimator sk-toggleable\"><input class=\"sk-toggleable__control sk-hidden--visually\" id=\"sk-estimator-id-17\" type=\"checkbox\" checked><label for=\"sk-estimator-id-17\" class=\"sk-toggleable__label sk-toggleable__label-arrow\">AdaBoostClassifier</label><div class=\"sk-toggleable__content\"><pre>AdaBoostClassifier(learning_rate=0.4, n_estimators=37, random_state=10)</pre></div></div></div></div></div>"
      ],
      "text/plain": [
       "AdaBoostClassifier(learning_rate=0.4, n_estimators=37, random_state=10)"
      ]
     },
     "execution_count": 87,
     "metadata": {},
     "output_type": "execute_result"
    }
   ],
   "source": [
    "tuned_ada_model = AdaBoostClassifier(n_estimators = 37,learning_rate=0.4, random_state = 10)\n",
    "tuned_ada_model.fit(X_sm, y_sm)"
   ]
  },
  {
   "cell_type": "code",
   "execution_count": 88,
   "id": "8de0f50b",
   "metadata": {},
   "outputs": [
    {
     "name": "stdout",
     "output_type": "stream",
     "text": [
      "Accuracy of the model:  0.73\n"
     ]
    }
   ],
   "source": [
    "y_pred = tuned_ada_model.predict(X_sm_test)\n",
    "cfm=confusion_matrix(y_sm_test,y_pred)\n",
    "acc=accuracy_score(y_sm_test, y_pred)\n",
    "print(\"Accuracy of the model: \",round(acc,2))"
   ]
  },
  {
   "cell_type": "code",
   "execution_count": 89,
   "id": "e679a74b",
   "metadata": {},
   "outputs": [
    {
     "name": "stdout",
     "output_type": "stream",
     "text": [
      "              precision    recall  f1-score   support\n",
      "\n",
      "           0       0.74      0.90      0.81       328\n",
      "           1       0.87      0.68      0.76       328\n",
      "\n",
      "    accuracy                           0.79       656\n",
      "   macro avg       0.81      0.79      0.79       656\n",
      "weighted avg       0.81      0.79      0.79       656\n",
      "\n"
     ]
    }
   ],
   "source": [
    "print(get_train_report(tuned_ada_model))"
   ]
  },
  {
   "cell_type": "code",
   "execution_count": 90,
   "id": "7a310350",
   "metadata": {},
   "outputs": [
    {
     "name": "stdout",
     "output_type": "stream",
     "text": [
      "              precision    recall  f1-score   support\n",
      "\n",
      "           0       0.71      0.77      0.74        88\n",
      "           1       0.75      0.68      0.71        88\n",
      "\n",
      "    accuracy                           0.73       176\n",
      "   macro avg       0.73      0.73      0.73       176\n",
      "weighted avg       0.73      0.73      0.73       176\n",
      "\n"
     ]
    }
   ],
   "source": [
    "print(get_test_report(tuned_ada_model))"
   ]
  },
  {
   "cell_type": "code",
   "execution_count": 91,
   "id": "bfbd0830",
   "metadata": {},
   "outputs": [
    {
     "data": {
      "application/javascript": [
       "\n",
       "        if (window._pyforest_update_imports_cell) { window._pyforest_update_imports_cell('import seaborn as sns\\nimport pandas as pd'); }\n",
       "    "
      ],
      "text/plain": [
       "<IPython.core.display.Javascript object>"
      ]
     },
     "metadata": {},
     "output_type": "display_data"
    },
    {
     "data": {
      "application/javascript": [
       "\n",
       "        if (window._pyforest_update_imports_cell) { window._pyforest_update_imports_cell('import seaborn as sns\\nimport pandas as pd'); }\n",
       "    "
      ],
      "text/plain": [
       "<IPython.core.display.Javascript object>"
      ]
     },
     "metadata": {},
     "output_type": "display_data"
    },
    {
     "data": {
      "image/png": "[encoded data removed]",
      "text/plain": [
       "<Figure size 1080x864 with 1 Axes>"
      ]
     },
     "metadata": {
      "needs_background": "light"
     },
     "output_type": "display_data"
    }
   ],
   "source": [
    "plot_confusion_matrix(tuned_ada_model)"
   ]
  },
  {
   "cell_type": "code",
   "execution_count": 92,
   "id": "dbabe7a0",
   "metadata": {},
   "outputs": [
    {
     "data": {
      "image/png": "[encoded data removed]",
      "text/plain": [
       "<Figure size 1080x864 with 1 Axes>"
      ]
     },
     "metadata": {
      "needs_background": "light"
     },
     "output_type": "display_data"
    }
   ],
   "source": [
    "plot_roc(tuned_ada_model)"
   ]
  },
  {
   "cell_type": "code",
   "execution_count": 93,
   "id": "b6199f4b",
   "metadata": {},
   "outputs": [],
   "source": [
    "import pickle\n",
    "file = open('gnb_model.pkl','wb')\n",
    "pickle.dump(gnb_model,file)"
   ]
  },
  {
   "cell_type": "code",
   "execution_count": 94,
   "id": "ce33fed9",
   "metadata": {},
   "outputs": [],
   "source": [
    "import pickle\n",
    "file = open('tuned_ada_model.pkl','wb')\n",
    "pickle.dump(tuned_ada_model,file)"
   ]
  },
  {
   "cell_type": "code",
   "execution_count": 96,
   "id": "943a68c4",
   "metadata": {},
   "outputs": [
    {
     "data": {
      "text/plain": [
       "Index(['Age', 'Gender', 'Total Bilirubin', 'Direct Bilirubin', 'Alkphos',\n",
       "       'Sgpt', 'Sgpot', 'Total Protein', 'Albumin', 'A/G Ratio'],\n",
       "      dtype='object')"
      ]
     },
     "execution_count": 96,
     "metadata": {},
     "output_type": "execute_result"
    }
   ],
   "source": [
    "Features.columns"
   ]
  },
  {
   "cell_type": "code",
   "execution_count": 110,
   "id": "495a739f",
   "metadata": {},
   "outputs": [
    {
     "name": "stdout",
     "output_type": "stream",
     "text": [
      "Enter the Age: 40\n",
      "Enter the Gender (0->Male, 1-Female): 1\n",
      "Enter the Total Bilirubin: 0.9\n",
      "Enter the Direct Bilirubin: 0.3\n",
      "Enter the Alkphos: 293\n",
      "Enter the Sgpt ( Alanine aminotransferase ): 232\n",
      "Enter the Sgpot: 245\n",
      "Enter the Total Protein: 6.8\n",
      "Enter the Albumin: 3.1\n",
      "Enter the A/G Ratio: 0.8\n"
     ]
    },
    {
     "data": {
      "application/javascript": [
       "\n",
       "        if (window._pyforest_update_imports_cell) { window._pyforest_update_imports_cell('import numpy as np\\nimport seaborn as sns\\nimport pandas as pd'); }\n",
       "    "
      ],
      "text/plain": [
       "<IPython.core.display.Javascript object>"
      ]
     },
     "metadata": {},
     "output_type": "display_data"
    },
    {
     "name": "stdout",
     "output_type": "stream",
     "text": [
      "Estimated Result:  1\n"
     ]
    }
   ],
   "source": [
    "Age = int(input('Enter the Age: '))\n",
    "Gender = int(input('Enter the Gender (0->Male, 1-Female): '))\n",
    "Total_Bilirubin = float(input('Enter the Total Bilirubin: '))\n",
    "Direct_Bilirubin = float(input('Enter the Direct Bilirubin: '))\n",
    "Alkphos = int(input('Enter the Alkphos: '))\n",
    "Sgpt = int(input('Enter the Sgpt ( Alanine aminotransferase ): '))\n",
    "Sgpot = int(input('Enter the Sgpot: '))\n",
    "Total_Protein = float(input('Enter the Total Protein: '))\n",
    "Albumin = float(input('Enter the Albumin: '))\n",
    "AG_Ratio = float(input('Enter the A/G Ratio: '))\n",
    "\n",
    "to_predict = [[Age,Gender,Total_Bilirubin,Direct_Bilirubin,Alkphos,Sgpt,Sgpot,Total_Protein,Albumin,AG_Ratio]]\n",
    "#to_predict = np.array(to_predict)\n",
    "#to_predict = to_predict.reshape(1,10)\n",
    "#to_predict = np.array(cTransformer.transform(to_predict), dtype=np.float32)\n",
    "estimated_price = gnb_model.predict(to_predict)\n",
    "print('Estimated Result: ', str(np.round(estimated_price[0],2)))"
   ]
  },
  {
   "cell_type": "code",
   "execution_count": 111,
   "id": "c9c149f8",
   "metadata": {},
   "outputs": [
    {
     "name": "stdout",
     "output_type": "stream",
     "text": [
      "Enter the Age: 40\n",
      "Enter the Gender (0->Male, 1-Female): 1\n",
      "Enter the Total Bilirubin: 0.9\n",
      "Enter the Direct Bilirubin: 0.3\n",
      "Enter the Alkphos: 293\n",
      "Enter the Sgpt ( Alanine aminotransferase ): 232\n",
      "Enter the Sgpot: 245\n",
      "Enter the Total Protein: 6.8\n",
      "Enter the Albumin: 3.1\n",
      "Enter the A/G Ratio: 0.8\n"
     ]
    },
    {
     "data": {
      "application/javascript": [
       "\n",
       "        if (window._pyforest_update_imports_cell) { window._pyforest_update_imports_cell('import numpy as np\\nimport seaborn as sns\\nimport pandas as pd'); }\n",
       "    "
      ],
      "text/plain": [
       "<IPython.core.display.Javascript object>"
      ]
     },
     "metadata": {},
     "output_type": "display_data"
    },
    {
     "name": "stdout",
     "output_type": "stream",
     "text": [
      "Estimated Result:  1\n"
     ]
    }
   ],
   "source": [
    "Age = int(input('Enter the Age: '))\n",
    "Gender = int(input('Enter the Gender (0->Male, 1-Female): '))\n",
    "Total_Bilirubin = float(input('Enter the Total Bilirubin: '))\n",
    "Direct_Bilirubin = float(input('Enter the Direct Bilirubin: '))\n",
    "Alkphos = int(input('Enter the Alkphos: '))\n",
    "Sgpt = int(input('Enter the Sgpt ( Alanine aminotransferase ): '))\n",
    "Sgpot = int(input('Enter the Sgpot: '))\n",
    "Total_Protein = float(input('Enter the Total Protein: '))\n",
    "Albumin = float(input('Enter the Albumin: '))\n",
    "AG_Ratio = float(input('Enter the A/G Ratio: '))\n",
    "\n",
    "to_predict = [[Age,Gender,Total_Bilirubin,Direct_Bilirubin,Alkphos,Sgpt,Sgpot,Total_Protein,Albumin,AG_Ratio]]\n",
    "\n",
    "estimated_price = tuned_ada_model.predict(to_predict)\n",
    "print('Estimated Result: ', str(np.round(estimated_price[0],2)))"
   ]
  },
  {
   "cell_type": "code",
   "execution_count": null,
   "id": "06543edc",
   "metadata": {},
   "outputs": [],
   "source": []
  }
 ],
 "metadata": {
  "kernelspec": {
   "display_name": "Python 3 (ipykernel)",
   "language": "python",
   "name": "python3"
  },
  "language_info": {
   "codemirror_mode": {
    "name": "ipython",
    "version": 3
   },
   "file_extension": ".py",
   "mimetype": "text/x-python",
   "name": "python",
   "nbconvert_exporter": "python",
   "pygments_lexer": "ipython3",
   "version": "3.9.7"
  }
 },
 "nbformat": 4,
 "nbformat_minor": 5
}
